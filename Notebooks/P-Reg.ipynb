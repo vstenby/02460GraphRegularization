{
 "cells": [
  {
   "cell_type": "markdown",
   "metadata": {},
   "source": [
    "# Semi-supervised Graph Node Classification\n",
    "\n",
    "This notebook goes through the \"Cora\" dataset example from [here](https://pytorch-geometric.readthedocs.io/en/latest/notes/introduction.html). "
   ]
  },
  {
   "cell_type": "markdown",
   "metadata": {},
   "source": [
    "## Dependencies\n",
    "\n",
    "Let's load in the dependencies."
   ]
  },
  {
   "cell_type": "code",
   "execution_count": 13,
   "metadata": {},
   "outputs": [],
   "source": [
    "import torch\n",
    "import torch.nn.functional as F\n",
    "\n",
    "from torch_geometric.data import Data\n",
    "from torch_geometric.datasets import Planetoid\n",
    "from torch_geometric.nn import GCNConv\n",
    "import torch_geometric.utils as utils\n",
    "\n",
    "import seaborn as sn\n",
    "import pandas as pd\n",
    "import matplotlib.pyplot as plt\n",
    "from sklearn.metrics import confusion_matrix\n",
    "import tqdm.auto as tqdm\n",
    "import numpy as np"
   ]
  },
  {
   "cell_type": "markdown",
   "metadata": {},
   "source": [
    "## About the **Cora** dataset."
   ]
  },
  {
   "cell_type": "markdown",
   "metadata": {},
   "source": [
    "The Cora dataset consists of 2708 scientific publications classified into one of seven classes. The citation network consists of 5429 links. Each publication in the dataset is described by a 0/1-valued word vector indicating the absence/presence of the corresponding word from the dictionary. The dictionary consists of 1433 unique words. [Source.](https://paperswithcode.com/dataset/cora)"
   ]
  },
  {
   "cell_type": "code",
   "execution_count": 14,
   "metadata": {},
   "outputs": [],
   "source": [
    "dataset = Planetoid(root='/tmp/Cora', name='Cora')"
   ]
  },
  {
   "cell_type": "markdown",
   "metadata": {},
   "source": [
    "First, let us see how many different classes the Cora dataset contains."
   ]
  },
  {
   "cell_type": "code",
   "execution_count": 15,
   "metadata": {},
   "outputs": [
    {
     "data": {
      "text/plain": [
       "7"
      ]
     },
     "execution_count": 15,
     "metadata": {},
     "output_type": "execute_result"
    }
   ],
   "source": [
    "dataset.num_classes"
   ]
  },
  {
   "cell_type": "markdown",
   "metadata": {},
   "source": [
    "Let's make sure we have 1433 edge features (i.e. which words each article contains.)"
   ]
  },
  {
   "cell_type": "code",
   "execution_count": 16,
   "metadata": {},
   "outputs": [
    {
     "data": {
      "text/plain": [
       "1433"
      ]
     },
     "execution_count": 16,
     "metadata": {},
     "output_type": "execute_result"
    }
   ],
   "source": [
    "dataset.num_node_features"
   ]
  },
  {
   "cell_type": "markdown",
   "metadata": {},
   "source": [
    "We can also look at the data matrix."
   ]
  },
  {
   "cell_type": "code",
   "execution_count": 17,
   "metadata": {},
   "outputs": [
    {
     "data": {
      "text/plain": [
       "torch.Size([2708, 1433])"
      ]
     },
     "execution_count": 17,
     "metadata": {},
     "output_type": "execute_result"
    }
   ],
   "source": [
    "dataset.data.x.shape"
   ]
  },
  {
   "cell_type": "markdown",
   "metadata": {},
   "source": [
    "How many does the training set, validation set and test set contain?"
   ]
  },
  {
   "cell_type": "code",
   "execution_count": 18,
   "metadata": {},
   "outputs": [
    {
     "data": {
      "text/plain": [
       "(140, 500, 1000)"
      ]
     },
     "execution_count": 18,
     "metadata": {},
     "output_type": "execute_result"
    }
   ],
   "source": [
    "data = dataset[0]\n",
    "data.train_mask.sum().item(), data.val_mask.sum().item(), data.test_mask.sum().item()"
   ]
  },
  {
   "cell_type": "markdown",
   "metadata": {},
   "source": [
    "# Implementing a Graph Convolutional Networks"
   ]
  },
  {
   "cell_type": "markdown",
   "metadata": {},
   "source": [
    "Define the GCN."
   ]
  },
  {
   "cell_type": "code",
   "execution_count": 19,
   "metadata": {},
   "outputs": [],
   "source": [
    "class GCN(torch.nn.Module):\n",
    "    def __init__(self):\n",
    "        super().__init__()\n",
    "        self.conv1 = GCNConv(dataset.num_node_features, 16)\n",
    "        self.conv2 = GCNConv(16, dataset.num_classes)\n",
    "\n",
    "    def forward(self, data):\n",
    "        x, edge_index = data.x, data.edge_index\n",
    "\n",
    "        x = self.conv1(x, edge_index)\n",
    "        x = F.relu(x)\n",
    "        x = F.dropout(x, training=self.training)\n",
    "        x = self.conv2(x, edge_index)\n",
    "\n",
    "        return x\n",
    "\n",
    "class RegularizedLoss:\n",
    "    '''\n",
    "    Used to calculate the regularized loss.\n",
    "\n",
    "    Inputs:\n",
    "        edge_index, edge index of the graph.\n",
    "        train_mask, train indices that should be used for the training loss.\n",
    "\n",
    "    '''\n",
    "    \n",
    "    def __init__(self, phi, mu, edge_index, train_mask):\n",
    "\n",
    "        if phi == 'squared_error': \n",
    "            self.phi = lambda Zprime, Z : 0.5 * (torch.norm(Zprime - Z, p=2, dim=1) ** 2).sum()\n",
    "        else:\n",
    "            raise NotImplementedError()\n",
    "\n",
    "        #Set the value of mu.\n",
    "        self.mu = mu\n",
    "\n",
    "        self.train_mask = train_mask\n",
    "    \n",
    "        #Calculate the adjacency matrix.\n",
    "        A = utils.to_dense_adj(edge_index).squeeze(0)\n",
    "\n",
    "        #Set N, the number of nodes in the graph.\n",
    "        self.N, _ = A.shape\n",
    "\n",
    "        #Calculate the degree matrix, https://github.com/pyg-team/pytorch_geometric/issues/1261#issuecomment-633913984\n",
    "        D = torch.diag(utils.degree(edge_index[0])) \n",
    "\n",
    "        #Calculate the Ahat matrix.\n",
    "        self.Ahat = torch.linalg.solve(D, A)\n",
    "\n",
    "        #Use the CrossEntropyLoss. \n",
    "        self.cross_entropy = torch.nn.CrossEntropyLoss()\n",
    "\n",
    "    def __call__(self, Z, y):\n",
    "        '''\n",
    "        Evaluate the loss function. \n",
    "        '''\n",
    "        N = len(y)\n",
    "        \n",
    "        L1 = self.cross_entropy(Z[self.train_mask], y[self.train_mask])\n",
    "\n",
    "        Zprime = torch.matmul(self.Ahat, Z)\n",
    "\n",
    "        #Equation (2) in the paper.\n",
    "        L2 = self.mu * 1/self.N * self.phi(Zprime, Z)\n",
    "\n",
    "        return L1 + self.mu * L2"
   ]
  },
  {
   "cell_type": "markdown",
   "metadata": {},
   "source": [
    "Set the device, model, data and optimizer."
   ]
  },
  {
   "cell_type": "code",
   "execution_count": 20,
   "metadata": {},
   "outputs": [],
   "source": [
    "device = torch.device('cuda' if torch.cuda.is_available() else 'cpu')\n",
    "model = GCN().to(device)\n",
    "data = dataset[0].to(device)\n",
    "optimizer = torch.optim.Adam(model.parameters(), lr=0.01, weight_decay=5e-4)"
   ]
  },
  {
   "cell_type": "code",
   "execution_count": 89,
   "metadata": {},
   "outputs": [],
   "source": [
    "def get_masks(A,B,dataset):\n",
    "    N = dataset.data.num_nodes\n",
    "    y = dataset.data.y\n",
    "    C = dataset.num_classes\n",
    "\n",
    "    _, counts = np.unique(dataset.data.y.numpy(), return_counts=True)\n",
    "\n",
    "    assert not np.any(counts < (A+B)), f'Not enough examples.'\n",
    "\n",
    "    train_mask = torch.Tensor([False]).repeat(N) \n",
    "    val_mask = torch.Tensor([False]).repeat(N)\n",
    "    test_mask = torch.Tensor([False]).repeat(N)\n",
    "\n",
    "    for i in range(C):\n",
    "        num_in_class = (y == i).sum()\n",
    "        train_mask[torch.where((y == i))[0][:A]] = True\n",
    "        val_mask[torch.where((y == i))[0][A:A+B]] = True\n",
    "        test_mask[torch.where((y == i))[0][A+B:num_in_class]] = True\n",
    "    return train_mask.bool(), val_mask.bool(), test_mask.bool()\n",
    "\n",
    "train_mask, val_mask, test_mask = get_masks(100, 5, dataset)"
   ]
  },
  {
   "cell_type": "markdown",
   "metadata": {},
   "source": [
    "Let's train the model."
   ]
  },
  {
   "cell_type": "code",
   "execution_count": 21,
   "metadata": {},
   "outputs": [
    {
     "name": "stderr",
     "output_type": "stream",
     "text": [
      "100%|██████████| 200/200 [00:07<00:00, 26.94it/s]\n"
     ]
    }
   ],
   "source": [
    "#loss_fn = torch.nn.CrossEntropyLoss()\n",
    "loss_fn = RegularizedLoss(phi = 'squared_error', mu = 1, edge_index = data.edge_index, train_mask = data.train_mask)\n",
    "model.train()\n",
    "for epoch in tqdm.tqdm(range(200)):\n",
    "    optimizer.zero_grad()\n",
    "    out = model(data)\n",
    "    \n",
    "    #loss = loss_fn(out[data.train_mask], data.y[data.train_mask])\n",
    "    loss = loss_fn(out, data.y)\n",
    "    \n",
    "    loss.backward()\n",
    "    optimizer.step()"
   ]
  },
  {
   "cell_type": "markdown",
   "metadata": {},
   "source": [
    "Let us also evaluate the model:"
   ]
  },
  {
   "cell_type": "code",
   "execution_count": 22,
   "metadata": {},
   "outputs": [
    {
     "name": "stdout",
     "output_type": "stream",
     "text": [
      "Accuracy: 0.5010\n"
     ]
    }
   ],
   "source": [
    "model.eval()\n",
    "pred = model(data).argmax(dim=1)\n",
    "correct = (pred[data.test_mask] == data.y[data.test_mask]).sum()\n",
    "acc = int(correct) / int(data.test_mask.sum())\n",
    "print(f'Accuracy: {acc:.4f}')"
   ]
  },
  {
   "cell_type": "markdown",
   "metadata": {},
   "source": [
    "Let us also plot the confusion matrix."
   ]
  },
  {
   "cell_type": "code",
   "execution_count": 23,
   "metadata": {},
   "outputs": [
    {
     "data": {
      "image/png": "[encoded data removed]",
      "text/plain": [
       "<Figure size 720x720 with 1 Axes>"
      ]
     },
     "metadata": {},
     "output_type": "display_data"
    }
   ],
   "source": [
    "cm = confusion_matrix(y_true = data.y[data.test_mask], y_pred = pred[data.test_mask])\n",
    "df_cm = pd.DataFrame(cm, range(7), range(7))\n",
    "\n",
    "\n",
    "plt.figure(figsize=(10,10))\n",
    "sn.set(font_scale=1.4) # for label size\n",
    "sn.heatmap(df_cm, annot=True, annot_kws={\"size\": 16}, fmt='g', cbar=False) # font size\n",
    "plt.title('Confusion matrix for Cora example with PyG')\n",
    "plt.show()"
   ]
  },
  {
   "cell_type": "markdown",
   "metadata": {},
   "source": [
    "# Implement A Propagation Function\n",
    "\n",
    "A propagation function. It should take a network and a high-level embedding and return the propagated embedding. That is, given A and Z in the paper, the function calculated $\\hat{​​​​​​​A}​​​​​​​Z$ (recall from my presentation last week, that for each node in the network, the propagated embedding of the node is equal to the average of its neighbors embeddings before the propagation (recall that each row in Z is a node embedding, and $\\hat{​​​​​​​A}​​​​​​​Z$ is just a matrix way to write the average embedding over the neighbors of each node).\n",
    "\tFor this function, it is a good idea to test it on some small examples. Create a network of five nodes and given them one-dimensional node features. Then test that your implementation gives the correct propagated features."
   ]
  }
 ],
 "metadata": {
  "interpreter": {
   "hash": "5a53174ca1387fe593cba4c3c3bb864ed46c211c769a8728d1b5a601a8170d95"
  },
  "kernelspec": {
   "display_name": "Python 3.9.7 ('base')",
   "language": "python",
   "name": "python3"
  },
  "language_info": {
   "codemirror_mode": {
    "name": "ipython",
    "version": 3
   },
   "file_extension": ".py",
   "mimetype": "text/x-python",
   "name": "python",
   "nbconvert_exporter": "python",
   "pygments_lexer": "ipython3",
   "version": "3.9.7"
  },
  "orig_nbformat": 4
 },
 "nbformat": 4,
 "nbformat_minor": 2
}
